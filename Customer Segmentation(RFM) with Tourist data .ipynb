{
 "cells": [
  {
   "cell_type": "markdown",
   "metadata": {},
   "source": [
    "## Library and Data Import"
   ]
  },
  {
   "cell_type": "code",
   "execution_count": 1,
   "metadata": {
    "ExecuteTime": {
     "end_time": "2020-05-17T07:50:32.708157Z",
     "start_time": "2020-05-17T07:50:32.702622Z"
    }
   },
   "outputs": [],
   "source": [
    "import sys"
   ]
  },
  {
   "cell_type": "code",
   "execution_count": 2,
   "metadata": {
    "ExecuteTime": {
     "end_time": "2020-05-17T07:50:32.937130Z",
     "start_time": "2020-05-17T07:50:32.930328Z"
    }
   },
   "outputs": [
    {
     "name": "stdout",
     "output_type": "stream",
     "text": [
      "3.7.7 (v3.7.7:d7c567b08f, Mar 10 2020, 02:56:16) \n",
      "[Clang 6.0 (clang-600.0.57)]\n"
     ]
    }
   ],
   "source": [
    "print(sys.version)"
   ]
  },
  {
   "cell_type": "code",
   "execution_count": 3,
   "metadata": {
    "ExecuteTime": {
     "end_time": "2020-05-17T07:50:34.875727Z",
     "start_time": "2020-05-17T07:50:33.608009Z"
    }
   },
   "outputs": [],
   "source": [
    "import pandas as pd"
   ]
  },
  {
   "cell_type": "code",
   "execution_count": 4,
   "metadata": {
    "ExecuteTime": {
     "end_time": "2020-05-17T07:50:35.091913Z",
     "start_time": "2020-05-17T07:50:34.878769Z"
    }
   },
   "outputs": [],
   "source": [
    "df = pd.read_csv('data.csv',encoding = 'utf-8')"
   ]
  },
  {
   "cell_type": "code",
   "execution_count": 5,
   "metadata": {
    "ExecuteTime": {
     "end_time": "2020-05-17T07:50:35.152864Z",
     "start_time": "2020-05-17T07:50:35.094910Z"
    }
   },
   "outputs": [
    {
     "data": {
      "text/html": [
       "<div>\n",
       "<style scoped>\n",
       "    .dataframe tbody tr th:only-of-type {\n",
       "        vertical-align: middle;\n",
       "    }\n",
       "\n",
       "    .dataframe tbody tr th {\n",
       "        vertical-align: top;\n",
       "    }\n",
       "\n",
       "    .dataframe thead th {\n",
       "        text-align: right;\n",
       "    }\n",
       "</style>\n",
       "<table border=\"1\" class=\"dataframe\">\n",
       "  <thead>\n",
       "    <tr style=\"text-align: right;\">\n",
       "      <th></th>\n",
       "      <th>obs</th>\n",
       "      <th>channel</th>\n",
       "      <th>card_nbr</th>\n",
       "      <th>cust_id_nbr</th>\n",
       "      <th>cust_name</th>\n",
       "      <th>zip_code1</th>\n",
       "      <th>zip_code2</th>\n",
       "      <th>city_town</th>\n",
       "      <th>order_obs</th>\n",
       "      <th>txn_date</th>\n",
       "      <th>...</th>\n",
       "      <th>city_town_channel</th>\n",
       "      <th>city_town_product</th>\n",
       "      <th>amount</th>\n",
       "      <th>amount_uni</th>\n",
       "      <th>order_amt</th>\n",
       "      <th>travel_area</th>\n",
       "      <th>go_date</th>\n",
       "      <th>back_date</th>\n",
       "      <th>customer_id</th>\n",
       "      <th>card</th>\n",
       "    </tr>\n",
       "  </thead>\n",
       "  <tbody>\n",
       "    <tr>\n",
       "      <th>0</th>\n",
       "      <td>17229146</td>\n",
       "      <td>機台刷卡</td>\n",
       "      <td>552197******1414</td>\n",
       "      <td>NaN</td>\n",
       "      <td>陳如紫</td>\n",
       "      <td>台北市</td>\n",
       "      <td>大同區</td>\n",
       "      <td>台北市&amp;大同區</td>\n",
       "      <td>NaN</td>\n",
       "      <td>2019/4/19 0:00</td>\n",
       "      <td>...</td>\n",
       "      <td>台北市&amp;大同區&amp;機台刷卡</td>\n",
       "      <td>台北市&amp;大同區&amp;機票</td>\n",
       "      <td>4 張</td>\n",
       "      <td>4.0</td>\n",
       "      <td>113944</td>\n",
       "      <td>其他</td>\n",
       "      <td>2019/6/19</td>\n",
       "      <td>2019/7/3</td>\n",
       "      <td>M2561C1F42149549CF</td>\n",
       "      <td>552DDC81B3B8E801BA041414</td>\n",
       "    </tr>\n",
       "    <tr>\n",
       "      <th>1</th>\n",
       "      <td>18086581</td>\n",
       "      <td>機台刷卡</td>\n",
       "      <td>515713******2534</td>\n",
       "      <td>NaN</td>\n",
       "      <td>黃明聖</td>\n",
       "      <td>新北市</td>\n",
       "      <td>土城區</td>\n",
       "      <td>新北市&amp;土城區</td>\n",
       "      <td>NaN</td>\n",
       "      <td>2019/4/18 0:00</td>\n",
       "      <td>...</td>\n",
       "      <td>新北市&amp;土城區&amp;機台刷卡</td>\n",
       "      <td>新北市&amp;土城區&amp;機票</td>\n",
       "      <td>1 張</td>\n",
       "      <td>1.0</td>\n",
       "      <td>2970</td>\n",
       "      <td>上海</td>\n",
       "      <td>2019/2/26</td>\n",
       "      <td>2019/2/26</td>\n",
       "      <td>Q12BD495995FB5AD95</td>\n",
       "      <td>51598B404F4277A4FB002534</td>\n",
       "    </tr>\n",
       "    <tr>\n",
       "      <th>2</th>\n",
       "      <td>18176501</td>\n",
       "      <td>機台刷卡</td>\n",
       "      <td>515713******6468</td>\n",
       "      <td>NaN</td>\n",
       "      <td>徐琮裕</td>\n",
       "      <td>台中市</td>\n",
       "      <td>西區</td>\n",
       "      <td>台中市&amp;西區</td>\n",
       "      <td>NaN</td>\n",
       "      <td>2019/4/18 0:00</td>\n",
       "      <td>...</td>\n",
       "      <td>台中市&amp;西區&amp;機台刷卡</td>\n",
       "      <td>台中市&amp;西區&amp;機票</td>\n",
       "      <td>1 張</td>\n",
       "      <td>1.0</td>\n",
       "      <td>8000</td>\n",
       "      <td>香港</td>\n",
       "      <td>2019/4/2</td>\n",
       "      <td>2019/4/2</td>\n",
       "      <td>M1CE53EA8A222893F9</td>\n",
       "      <td>5156509CB9CE9BDB25D46468</td>\n",
       "    </tr>\n",
       "    <tr>\n",
       "      <th>3</th>\n",
       "      <td>18176808</td>\n",
       "      <td>機台刷卡</td>\n",
       "      <td>515713******2534</td>\n",
       "      <td>NaN</td>\n",
       "      <td>黃明聖</td>\n",
       "      <td>新北市</td>\n",
       "      <td>土城區</td>\n",
       "      <td>新北市&amp;土城區</td>\n",
       "      <td>NaN</td>\n",
       "      <td>2019/4/18 0:00</td>\n",
       "      <td>...</td>\n",
       "      <td>新北市&amp;土城區&amp;機台刷卡</td>\n",
       "      <td>新北市&amp;土城區&amp;機票</td>\n",
       "      <td>2 張</td>\n",
       "      <td>2.0</td>\n",
       "      <td>12450</td>\n",
       "      <td>香港</td>\n",
       "      <td>2019/3/20</td>\n",
       "      <td>2019/3/24</td>\n",
       "      <td>Q12BD495995FB5AD95</td>\n",
       "      <td>51598B404F4277A4FB002534</td>\n",
       "    </tr>\n",
       "    <tr>\n",
       "      <th>4</th>\n",
       "      <td>18106182</td>\n",
       "      <td>機台刷卡</td>\n",
       "      <td>406376******5859</td>\n",
       "      <td>NaN</td>\n",
       "      <td>謝宏晟</td>\n",
       "      <td>新竹縣</td>\n",
       "      <td>《鄉鎮別》</td>\n",
       "      <td>新竹縣&amp;《鄉鎮別》</td>\n",
       "      <td>NaN</td>\n",
       "      <td>2019/4/16 0:00</td>\n",
       "      <td>...</td>\n",
       "      <td>新竹縣&amp;《鄉鎮別》&amp;機台刷卡</td>\n",
       "      <td>新竹縣&amp;《鄉鎮別》&amp;國內自由行</td>\n",
       "      <td>8 人</td>\n",
       "      <td>8.0</td>\n",
       "      <td>30597</td>\n",
       "      <td>NaN</td>\n",
       "      <td>2019/6/8</td>\n",
       "      <td>NaN</td>\n",
       "      <td>K1802417C095CDF9AF</td>\n",
       "      <td>4069F6613D429610C8F65859</td>\n",
       "    </tr>\n",
       "  </tbody>\n",
       "</table>\n",
       "<p>5 rows × 21 columns</p>\n",
       "</div>"
      ],
      "text/plain": [
       "        obs channel          card_nbr cust_id_nbr cust_name zip_code1  \\\n",
       "0  17229146    機台刷卡  552197******1414         NaN       陳如紫       台北市   \n",
       "1  18086581    機台刷卡  515713******2534         NaN       黃明聖       新北市   \n",
       "2  18176501    機台刷卡  515713******6468         NaN       徐琮裕       台中市   \n",
       "3  18176808    機台刷卡  515713******2534         NaN       黃明聖       新北市   \n",
       "4  18106182    機台刷卡  406376******5859         NaN       謝宏晟       新竹縣   \n",
       "\n",
       "  zip_code2  city_town  order_obs        txn_date  ... city_town_channel  \\\n",
       "0       大同區    台北市&大同區        NaN  2019/4/19 0:00  ...      台北市&大同區&機台刷卡   \n",
       "1       土城區    新北市&土城區        NaN  2019/4/18 0:00  ...      新北市&土城區&機台刷卡   \n",
       "2        西區     台中市&西區        NaN  2019/4/18 0:00  ...       台中市&西區&機台刷卡   \n",
       "3       土城區    新北市&土城區        NaN  2019/4/18 0:00  ...      新北市&土城區&機台刷卡   \n",
       "4     《鄉鎮別》  新竹縣&《鄉鎮別》        NaN  2019/4/16 0:00  ...    新竹縣&《鄉鎮別》&機台刷卡   \n",
       "\n",
       "  city_town_product amount amount_uni  order_amt  travel_area    go_date  \\\n",
       "0        台北市&大同區&機票    4 張        4.0     113944           其他  2019/6/19   \n",
       "1        新北市&土城區&機票    1 張        1.0       2970           上海  2019/2/26   \n",
       "2         台中市&西區&機票    1 張        1.0       8000           香港   2019/4/2   \n",
       "3        新北市&土城區&機票    2 張        2.0      12450           香港  2019/3/20   \n",
       "4   新竹縣&《鄉鎮別》&國內自由行    8 人        8.0      30597          NaN   2019/6/8   \n",
       "\n",
       "   back_date         customer_id                      card  \n",
       "0   2019/7/3  M2561C1F42149549CF  552DDC81B3B8E801BA041414  \n",
       "1  2019/2/26  Q12BD495995FB5AD95  51598B404F4277A4FB002534  \n",
       "2   2019/4/2  M1CE53EA8A222893F9  5156509CB9CE9BDB25D46468  \n",
       "3  2019/3/24  Q12BD495995FB5AD95  51598B404F4277A4FB002534  \n",
       "4        NaN  K1802417C095CDF9AF  4069F6613D429610C8F65859  \n",
       "\n",
       "[5 rows x 21 columns]"
      ]
     },
     "execution_count": 5,
     "metadata": {},
     "output_type": "execute_result"
    }
   ],
   "source": [
    "df.head()"
   ]
  },
  {
   "cell_type": "code",
   "execution_count": null,
   "metadata": {},
   "outputs": [],
   "source": []
  },
  {
   "cell_type": "code",
   "execution_count": null,
   "metadata": {},
   "outputs": [],
   "source": []
  }
 ],
 "metadata": {
  "kernelspec": {
   "display_name": "Python 3",
   "language": "python",
   "name": "python3"
  },
  "language_info": {
   "codemirror_mode": {
    "name": "ipython",
    "version": 3
   },
   "file_extension": ".py",
   "mimetype": "text/x-python",
   "name": "python",
   "nbconvert_exporter": "python",
   "pygments_lexer": "ipython3",
   "version": "3.7.7"
  },
  "toc": {
   "base_numbering": 1,
   "nav_menu": {},
   "number_sections": true,
   "sideBar": true,
   "skip_h1_title": false,
   "title_cell": "Table of Contents",
   "title_sidebar": "Contents",
   "toc_cell": false,
   "toc_position": {},
   "toc_section_display": true,
   "toc_window_display": true
  }
 },
 "nbformat": 4,
 "nbformat_minor": 2
}
