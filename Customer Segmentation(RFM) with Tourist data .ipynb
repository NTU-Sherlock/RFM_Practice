{
 "cells": [
  {
   "cell_type": "markdown",
   "metadata": {},
   "source": [
    "## Library and Data Import"
   ]
  },
  {
   "cell_type": "code",
   "execution_count": 39,
   "metadata": {
    "ExecuteTime": {
     "end_time": "2020-05-17T09:07:46.443729Z",
     "start_time": "2020-05-17T09:07:46.430395Z"
    }
   },
   "outputs": [],
   "source": [
    "import sys\n",
    "import pandas as pd\n",
    "import datetime as dt"
   ]
  },
  {
   "cell_type": "code",
   "execution_count": 2,
   "metadata": {
    "ExecuteTime": {
     "end_time": "2020-05-17T07:50:32.937130Z",
     "start_time": "2020-05-17T07:50:32.930328Z"
    }
   },
   "outputs": [
    {
     "name": "stdout",
     "output_type": "stream",
     "text": [
      "3.7.7 (v3.7.7:d7c567b08f, Mar 10 2020, 02:56:16) \n",
      "[Clang 6.0 (clang-600.0.57)]\n"
     ]
    }
   ],
   "source": [
    "print(sys.version)"
   ]
  },
  {
   "cell_type": "code",
   "execution_count": 12,
   "metadata": {
    "ExecuteTime": {
     "end_time": "2020-05-17T08:33:15.159598Z",
     "start_time": "2020-05-17T08:33:15.155288Z"
    }
   },
   "outputs": [],
   "source": []
  },
  {
   "cell_type": "code",
   "execution_count": 22,
   "metadata": {
    "ExecuteTime": {
     "end_time": "2020-05-17T08:34:50.824969Z",
     "start_time": "2020-05-17T08:34:50.821571Z"
    }
   },
   "outputs": [],
   "source": [
    "pd.set_option('display.max_rows', 1000)"
   ]
  },
  {
   "cell_type": "code",
   "execution_count": 23,
   "metadata": {
    "ExecuteTime": {
     "end_time": "2020-05-17T08:34:50.974705Z",
     "start_time": "2020-05-17T08:34:50.968895Z"
    }
   },
   "outputs": [],
   "source": [
    "pd.set_option('display.max_columns', 1000)"
   ]
  },
  {
   "cell_type": "code",
   "execution_count": 27,
   "metadata": {
    "ExecuteTime": {
     "end_time": "2020-05-17T08:35:37.929300Z",
     "start_time": "2020-05-17T08:35:37.662070Z"
    }
   },
   "outputs": [],
   "source": [
    "df = pd.read_csv('data.csv',encoding = 'utf-8')"
   ]
  },
  {
   "cell_type": "code",
   "execution_count": 28,
   "metadata": {
    "ExecuteTime": {
     "end_time": "2020-05-17T08:35:41.378786Z",
     "start_time": "2020-05-17T08:35:41.368021Z"
    }
   },
   "outputs": [
    {
     "data": {
      "text/plain": [
       "Index(['obs', 'channel', 'card_nbr', 'cust_id_nbr', 'cust_name', 'zip_code1',\n",
       "       'zip_code2', 'city_town', 'order_obs', 'txn_date', 'product',\n",
       "       'city_town_channel', 'city_town_product', 'amount', 'amount_uni',\n",
       "       'order_amt', 'travel_area', 'go_date', 'back_date', 'customer_id',\n",
       "       'card'],\n",
       "      dtype='object')"
      ]
     },
     "execution_count": 28,
     "metadata": {},
     "output_type": "execute_result"
    }
   ],
   "source": [
    "df.columns"
   ]
  },
  {
   "cell_type": "code",
   "execution_count": 29,
   "metadata": {
    "ExecuteTime": {
     "end_time": "2020-05-17T08:35:42.932462Z",
     "start_time": "2020-05-17T08:35:42.927565Z"
    }
   },
   "outputs": [],
   "source": [
    "col = ['obs','zip_code1','zip_code2','city_town','order_obs', 'txn_date', 'product',\n",
    "       'city_town_channel', 'city_town_product', 'amount', 'amount_uni',\n",
    "       'order_amt', 'travel_area', 'go_date', 'back_date']"
   ]
  },
  {
   "cell_type": "code",
   "execution_count": 30,
   "metadata": {
    "ExecuteTime": {
     "end_time": "2020-05-17T08:35:50.627550Z",
     "start_time": "2020-05-17T08:35:50.567874Z"
    }
   },
   "outputs": [],
   "source": [
    "online = df[col]"
   ]
  },
  {
   "cell_type": "code",
   "execution_count": 31,
   "metadata": {
    "ExecuteTime": {
     "end_time": "2020-05-17T08:35:50.779798Z",
     "start_time": "2020-05-17T08:35:50.750125Z"
    }
   },
   "outputs": [
    {
     "data": {
      "text/html": [
       "<div>\n",
       "<style scoped>\n",
       "    .dataframe tbody tr th:only-of-type {\n",
       "        vertical-align: middle;\n",
       "    }\n",
       "\n",
       "    .dataframe tbody tr th {\n",
       "        vertical-align: top;\n",
       "    }\n",
       "\n",
       "    .dataframe thead th {\n",
       "        text-align: right;\n",
       "    }\n",
       "</style>\n",
       "<table border=\"1\" class=\"dataframe\">\n",
       "  <thead>\n",
       "    <tr style=\"text-align: right;\">\n",
       "      <th></th>\n",
       "      <th>obs</th>\n",
       "      <th>zip_code1</th>\n",
       "      <th>zip_code2</th>\n",
       "      <th>city_town</th>\n",
       "      <th>order_obs</th>\n",
       "      <th>txn_date</th>\n",
       "      <th>product</th>\n",
       "      <th>city_town_channel</th>\n",
       "      <th>city_town_product</th>\n",
       "      <th>amount</th>\n",
       "      <th>amount_uni</th>\n",
       "      <th>order_amt</th>\n",
       "      <th>travel_area</th>\n",
       "      <th>go_date</th>\n",
       "      <th>back_date</th>\n",
       "    </tr>\n",
       "  </thead>\n",
       "  <tbody>\n",
       "    <tr>\n",
       "      <th>0</th>\n",
       "      <td>17229146</td>\n",
       "      <td>台北市</td>\n",
       "      <td>大同區</td>\n",
       "      <td>台北市&amp;大同區</td>\n",
       "      <td>NaN</td>\n",
       "      <td>2019/4/19 0:00</td>\n",
       "      <td>機票</td>\n",
       "      <td>台北市&amp;大同區&amp;機台刷卡</td>\n",
       "      <td>台北市&amp;大同區&amp;機票</td>\n",
       "      <td>4 張</td>\n",
       "      <td>4.0</td>\n",
       "      <td>113944</td>\n",
       "      <td>其他</td>\n",
       "      <td>2019/6/19</td>\n",
       "      <td>2019/7/3</td>\n",
       "    </tr>\n",
       "    <tr>\n",
       "      <th>1</th>\n",
       "      <td>18086581</td>\n",
       "      <td>新北市</td>\n",
       "      <td>土城區</td>\n",
       "      <td>新北市&amp;土城區</td>\n",
       "      <td>NaN</td>\n",
       "      <td>2019/4/18 0:00</td>\n",
       "      <td>機票</td>\n",
       "      <td>新北市&amp;土城區&amp;機台刷卡</td>\n",
       "      <td>新北市&amp;土城區&amp;機票</td>\n",
       "      <td>1 張</td>\n",
       "      <td>1.0</td>\n",
       "      <td>2970</td>\n",
       "      <td>上海</td>\n",
       "      <td>2019/2/26</td>\n",
       "      <td>2019/2/26</td>\n",
       "    </tr>\n",
       "    <tr>\n",
       "      <th>2</th>\n",
       "      <td>18176501</td>\n",
       "      <td>台中市</td>\n",
       "      <td>西區</td>\n",
       "      <td>台中市&amp;西區</td>\n",
       "      <td>NaN</td>\n",
       "      <td>2019/4/18 0:00</td>\n",
       "      <td>機票</td>\n",
       "      <td>台中市&amp;西區&amp;機台刷卡</td>\n",
       "      <td>台中市&amp;西區&amp;機票</td>\n",
       "      <td>1 張</td>\n",
       "      <td>1.0</td>\n",
       "      <td>8000</td>\n",
       "      <td>香港</td>\n",
       "      <td>2019/4/2</td>\n",
       "      <td>2019/4/2</td>\n",
       "    </tr>\n",
       "    <tr>\n",
       "      <th>3</th>\n",
       "      <td>18176808</td>\n",
       "      <td>新北市</td>\n",
       "      <td>土城區</td>\n",
       "      <td>新北市&amp;土城區</td>\n",
       "      <td>NaN</td>\n",
       "      <td>2019/4/18 0:00</td>\n",
       "      <td>機票</td>\n",
       "      <td>新北市&amp;土城區&amp;機台刷卡</td>\n",
       "      <td>新北市&amp;土城區&amp;機票</td>\n",
       "      <td>2 張</td>\n",
       "      <td>2.0</td>\n",
       "      <td>12450</td>\n",
       "      <td>香港</td>\n",
       "      <td>2019/3/20</td>\n",
       "      <td>2019/3/24</td>\n",
       "    </tr>\n",
       "    <tr>\n",
       "      <th>4</th>\n",
       "      <td>18106182</td>\n",
       "      <td>新竹縣</td>\n",
       "      <td>《鄉鎮別》</td>\n",
       "      <td>新竹縣&amp;《鄉鎮別》</td>\n",
       "      <td>NaN</td>\n",
       "      <td>2019/4/16 0:00</td>\n",
       "      <td>國內自由行</td>\n",
       "      <td>新竹縣&amp;《鄉鎮別》&amp;機台刷卡</td>\n",
       "      <td>新竹縣&amp;《鄉鎮別》&amp;國內自由行</td>\n",
       "      <td>8 人</td>\n",
       "      <td>8.0</td>\n",
       "      <td>30597</td>\n",
       "      <td>NaN</td>\n",
       "      <td>2019/6/8</td>\n",
       "      <td>NaN</td>\n",
       "    </tr>\n",
       "  </tbody>\n",
       "</table>\n",
       "</div>"
      ],
      "text/plain": [
       "        obs zip_code1 zip_code2  city_town  order_obs        txn_date product  \\\n",
       "0  17229146       台北市       大同區    台北市&大同區        NaN  2019/4/19 0:00      機票   \n",
       "1  18086581       新北市       土城區    新北市&土城區        NaN  2019/4/18 0:00      機票   \n",
       "2  18176501       台中市        西區     台中市&西區        NaN  2019/4/18 0:00      機票   \n",
       "3  18176808       新北市       土城區    新北市&土城區        NaN  2019/4/18 0:00      機票   \n",
       "4  18106182       新竹縣     《鄉鎮別》  新竹縣&《鄉鎮別》        NaN  2019/4/16 0:00   國內自由行   \n",
       "\n",
       "  city_town_channel city_town_product amount  amount_uni  order_amt  \\\n",
       "0      台北市&大同區&機台刷卡        台北市&大同區&機票    4 張         4.0     113944   \n",
       "1      新北市&土城區&機台刷卡        新北市&土城區&機票    1 張         1.0       2970   \n",
       "2       台中市&西區&機台刷卡         台中市&西區&機票    1 張         1.0       8000   \n",
       "3      新北市&土城區&機台刷卡        新北市&土城區&機票    2 張         2.0      12450   \n",
       "4    新竹縣&《鄉鎮別》&機台刷卡   新竹縣&《鄉鎮別》&國內自由行    8 人         8.0      30597   \n",
       "\n",
       "  travel_area    go_date  back_date  \n",
       "0          其他  2019/6/19   2019/7/3  \n",
       "1          上海  2019/2/26  2019/2/26  \n",
       "2          香港   2019/4/2   2019/4/2  \n",
       "3          香港  2019/3/20  2019/3/24  \n",
       "4         NaN   2019/6/8        NaN  "
      ]
     },
     "execution_count": 31,
     "metadata": {},
     "output_type": "execute_result"
    }
   ],
   "source": [
    "online.head()"
   ]
  },
  {
   "cell_type": "markdown",
   "metadata": {},
   "source": [
    "## Cohort Analysis"
   ]
  },
  {
   "cell_type": "code",
   "execution_count": 36,
   "metadata": {
    "ExecuteTime": {
     "end_time": "2020-05-17T08:36:32.066408Z",
     "start_time": "2020-05-17T08:36:32.012942Z"
    }
   },
   "outputs": [
    {
     "data": {
      "text/plain": [
       "obs                      0\n",
       "zip_code1             4591\n",
       "zip_code2             4592\n",
       "city_town                0\n",
       "order_obs            14410\n",
       "txn_date                 0\n",
       "product                  0\n",
       "city_town_channel        0\n",
       "city_town_product        0\n",
       "amount                  70\n",
       "amount_uni              70\n",
       "order_amt                0\n",
       "travel_area           2552\n",
       "go_date                  0\n",
       "back_date             3127\n",
       "dtype: int64"
      ]
     },
     "execution_count": 36,
     "metadata": {},
     "output_type": "execute_result"
    }
   ],
   "source": [
    "len(online) - online.count()"
   ]
  },
  {
   "cell_type": "code",
   "execution_count": 40,
   "metadata": {
    "ExecuteTime": {
     "end_time": "2020-05-17T09:07:50.227243Z",
     "start_time": "2020-05-17T09:07:50.221889Z"
    }
   },
   "outputs": [],
   "source": [
    "# Define a function that will parse the date\n",
    "def get_day(x): return dt.datetime(x.year, x.month, x.day) "
   ]
  },
  {
   "cell_type": "code",
   "execution_count": null,
   "metadata": {},
   "outputs": [],
   "source": []
  },
  {
   "cell_type": "code",
   "execution_count": 48,
   "metadata": {
    "ExecuteTime": {
     "end_time": "2020-05-17T09:09:04.239860Z",
     "start_time": "2020-05-17T09:09:04.193816Z"
    }
   },
   "outputs": [
    {
     "ename": "TypeError",
     "evalue": "an integer is required (got type str)",
     "output_type": "error",
     "traceback": [
      "\u001b[0;31m---------------------------------------------------------------------------\u001b[0m",
      "\u001b[0;31mTypeError\u001b[0m                                 Traceback (most recent call last)",
      "\u001b[0;32m<ipython-input-48-2d70a1058a5a>\u001b[0m in \u001b[0;36m<module>\u001b[0;34m\u001b[0m\n\u001b[0;32m----> 1\u001b[0;31m \u001b[0mdt\u001b[0m\u001b[0;34m.\u001b[0m\u001b[0mdatetime\u001b[0m\u001b[0;34m(\u001b[0m\u001b[0monline\u001b[0m\u001b[0;34m.\u001b[0m\u001b[0mtxn_date\u001b[0m\u001b[0;34m[\u001b[0m\u001b[0;36m1\u001b[0m\u001b[0;34m]\u001b[0m\u001b[0;34m)\u001b[0m\u001b[0;34m\u001b[0m\u001b[0;34m\u001b[0m\u001b[0m\n\u001b[0m",
      "\u001b[0;31mTypeError\u001b[0m: an integer is required (got type str)"
     ]
    }
   ],
   "source": [
    "dt.datetime(online.txn_date[1])"
   ]
  },
  {
   "cell_type": "code",
   "execution_count": 41,
   "metadata": {
    "ExecuteTime": {
     "end_time": "2020-05-17T09:07:51.706637Z",
     "start_time": "2020-05-17T09:07:51.644727Z"
    }
   },
   "outputs": [
    {
     "ename": "AttributeError",
     "evalue": "'str' object has no attribute 'year'",
     "output_type": "error",
     "traceback": [
      "\u001b[0;31m---------------------------------------------------------------------------\u001b[0m",
      "\u001b[0;31mAttributeError\u001b[0m                            Traceback (most recent call last)",
      "\u001b[0;32m<ipython-input-41-8606d86ae653>\u001b[0m in \u001b[0;36m<module>\u001b[0;34m\u001b[0m\n\u001b[1;32m      1\u001b[0m \u001b[0;31m# Create InvoiceDay column\u001b[0m\u001b[0;34m\u001b[0m\u001b[0;34m\u001b[0m\u001b[0;34m\u001b[0m\u001b[0m\n\u001b[0;32m----> 2\u001b[0;31m \u001b[0monline\u001b[0m\u001b[0;34m[\u001b[0m\u001b[0;34m'InvoiceDay'\u001b[0m\u001b[0;34m]\u001b[0m \u001b[0;34m=\u001b[0m \u001b[0monline\u001b[0m\u001b[0;34m[\u001b[0m\u001b[0;34m'txn_date'\u001b[0m\u001b[0;34m]\u001b[0m\u001b[0;34m.\u001b[0m\u001b[0mapply\u001b[0m\u001b[0;34m(\u001b[0m\u001b[0mget_day\u001b[0m\u001b[0;34m)\u001b[0m\u001b[0;34m\u001b[0m\u001b[0;34m\u001b[0m\u001b[0m\n\u001b[0m",
      "\u001b[0;32m/Library/Frameworks/Python.framework/Versions/3.7/lib/python3.7/site-packages/pandas/core/series.py\u001b[0m in \u001b[0;36mapply\u001b[0;34m(self, func, convert_dtype, args, **kwds)\u001b[0m\n\u001b[1;32m   4043\u001b[0m             \u001b[0;32melse\u001b[0m\u001b[0;34m:\u001b[0m\u001b[0;34m\u001b[0m\u001b[0;34m\u001b[0m\u001b[0m\n\u001b[1;32m   4044\u001b[0m                 \u001b[0mvalues\u001b[0m \u001b[0;34m=\u001b[0m \u001b[0mself\u001b[0m\u001b[0;34m.\u001b[0m\u001b[0mastype\u001b[0m\u001b[0;34m(\u001b[0m\u001b[0mobject\u001b[0m\u001b[0;34m)\u001b[0m\u001b[0;34m.\u001b[0m\u001b[0mvalues\u001b[0m\u001b[0;34m\u001b[0m\u001b[0;34m\u001b[0m\u001b[0m\n\u001b[0;32m-> 4045\u001b[0;31m                 \u001b[0mmapped\u001b[0m \u001b[0;34m=\u001b[0m \u001b[0mlib\u001b[0m\u001b[0;34m.\u001b[0m\u001b[0mmap_infer\u001b[0m\u001b[0;34m(\u001b[0m\u001b[0mvalues\u001b[0m\u001b[0;34m,\u001b[0m \u001b[0mf\u001b[0m\u001b[0;34m,\u001b[0m \u001b[0mconvert\u001b[0m\u001b[0;34m=\u001b[0m\u001b[0mconvert_dtype\u001b[0m\u001b[0;34m)\u001b[0m\u001b[0;34m\u001b[0m\u001b[0;34m\u001b[0m\u001b[0m\n\u001b[0m\u001b[1;32m   4046\u001b[0m \u001b[0;34m\u001b[0m\u001b[0m\n\u001b[1;32m   4047\u001b[0m         \u001b[0;32mif\u001b[0m \u001b[0mlen\u001b[0m\u001b[0;34m(\u001b[0m\u001b[0mmapped\u001b[0m\u001b[0;34m)\u001b[0m \u001b[0;32mand\u001b[0m \u001b[0misinstance\u001b[0m\u001b[0;34m(\u001b[0m\u001b[0mmapped\u001b[0m\u001b[0;34m[\u001b[0m\u001b[0;36m0\u001b[0m\u001b[0;34m]\u001b[0m\u001b[0;34m,\u001b[0m \u001b[0mSeries\u001b[0m\u001b[0;34m)\u001b[0m\u001b[0;34m:\u001b[0m\u001b[0;34m\u001b[0m\u001b[0;34m\u001b[0m\u001b[0m\n",
      "\u001b[0;32mpandas/_libs/lib.pyx\u001b[0m in \u001b[0;36mpandas._libs.lib.map_infer\u001b[0;34m()\u001b[0m\n",
      "\u001b[0;32m<ipython-input-40-f7a14c168f32>\u001b[0m in \u001b[0;36mget_day\u001b[0;34m(x)\u001b[0m\n\u001b[1;32m      1\u001b[0m \u001b[0;31m# Define a function that will parse the date\u001b[0m\u001b[0;34m\u001b[0m\u001b[0;34m\u001b[0m\u001b[0;34m\u001b[0m\u001b[0m\n\u001b[0;32m----> 2\u001b[0;31m \u001b[0;32mdef\u001b[0m \u001b[0mget_day\u001b[0m\u001b[0;34m(\u001b[0m\u001b[0mx\u001b[0m\u001b[0;34m)\u001b[0m\u001b[0;34m:\u001b[0m \u001b[0;32mreturn\u001b[0m \u001b[0mdt\u001b[0m\u001b[0;34m.\u001b[0m\u001b[0mdatetime\u001b[0m\u001b[0;34m(\u001b[0m\u001b[0mx\u001b[0m\u001b[0;34m.\u001b[0m\u001b[0myear\u001b[0m\u001b[0;34m,\u001b[0m \u001b[0mx\u001b[0m\u001b[0;34m.\u001b[0m\u001b[0mmonth\u001b[0m\u001b[0;34m,\u001b[0m \u001b[0mx\u001b[0m\u001b[0;34m.\u001b[0m\u001b[0mday\u001b[0m\u001b[0;34m)\u001b[0m\u001b[0;34m\u001b[0m\u001b[0;34m\u001b[0m\u001b[0m\n\u001b[0m",
      "\u001b[0;31mAttributeError\u001b[0m: 'str' object has no attribute 'year'"
     ]
    }
   ],
   "source": [
    "# Create InvoiceDay column\n",
    "online['InvoiceDay'] = online['txn_date'].apply(get_day) "
   ]
  },
  {
   "cell_type": "code",
   "execution_count": null,
   "metadata": {},
   "outputs": [],
   "source": [
    "# Group by CustomerID and select the InvoiceDay value\n",
    "grouping = online.groupby('CustomerID')['InvoiceDay'] \n",
    "# Assign a minimum InvoiceDay value to the dataset\n",
    "online['CohortDay'] = grouping.transform(min)\n",
    "# View the top 5 rows\n",
    "print(online.head())"
   ]
  }
 ],
 "metadata": {
  "kernelspec": {
   "display_name": "Python 3",
   "language": "python",
   "name": "python3"
  },
  "language_info": {
   "codemirror_mode": {
    "name": "ipython",
    "version": 3
   },
   "file_extension": ".py",
   "mimetype": "text/x-python",
   "name": "python",
   "nbconvert_exporter": "python",
   "pygments_lexer": "ipython3",
   "version": "3.7.7"
  },
  "toc": {
   "base_numbering": 1,
   "nav_menu": {},
   "number_sections": true,
   "sideBar": true,
   "skip_h1_title": false,
   "title_cell": "Table of Contents",
   "title_sidebar": "Contents",
   "toc_cell": false,
   "toc_position": {},
   "toc_section_display": true,
   "toc_window_display": true
  }
 },
 "nbformat": 4,
 "nbformat_minor": 2
}
