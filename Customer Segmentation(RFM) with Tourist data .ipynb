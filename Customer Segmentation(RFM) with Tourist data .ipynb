{
 "cells": [
  {
   "cell_type": "markdown",
   "metadata": {},
   "source": [
    "## Library and Data Import"
   ]
  },
  {
   "cell_type": "code",
   "execution_count": 1,
   "metadata": {
    "ExecuteTime": {
     "end_time": "2020-05-17T07:50:32.708157Z",
     "start_time": "2020-05-17T07:50:32.702622Z"
    }
   },
   "outputs": [],
   "source": [
    "import sys"
   ]
  },
  {
   "cell_type": "code",
   "execution_count": 2,
   "metadata": {
    "ExecuteTime": {
     "end_time": "2020-05-17T07:50:32.937130Z",
     "start_time": "2020-05-17T07:50:32.930328Z"
    }
   },
   "outputs": [
    {
     "name": "stdout",
     "output_type": "stream",
     "text": [
      "3.7.7 (v3.7.7:d7c567b08f, Mar 10 2020, 02:56:16) \n",
      "[Clang 6.0 (clang-600.0.57)]\n"
     ]
    }
   ],
   "source": [
    "print(sys.version)"
   ]
  },
  {
   "cell_type": "code",
   "execution_count": 12,
   "metadata": {
    "ExecuteTime": {
     "end_time": "2020-05-17T08:33:15.159598Z",
     "start_time": "2020-05-17T08:33:15.155288Z"
    }
   },
   "outputs": [],
   "source": [
    "import pandas as pd"
   ]
  },
  {
   "cell_type": "code",
   "execution_count": 22,
   "metadata": {
    "ExecuteTime": {
     "end_time": "2020-05-17T08:34:50.824969Z",
     "start_time": "2020-05-17T08:34:50.821571Z"
    }
   },
   "outputs": [],
   "source": [
    "pd.set_option('display.max_rows', 1000)"
   ]
  },
  {
   "cell_type": "code",
   "execution_count": 23,
   "metadata": {
    "ExecuteTime": {
     "end_time": "2020-05-17T08:34:50.974705Z",
     "start_time": "2020-05-17T08:34:50.968895Z"
    }
   },
   "outputs": [],
   "source": [
    "pd.set_option('display.max_columns', 1000)"
   ]
  },
  {
   "cell_type": "code",
   "execution_count": 27,
   "metadata": {
    "ExecuteTime": {
     "end_time": "2020-05-17T08:35:37.929300Z",
     "start_time": "2020-05-17T08:35:37.662070Z"
    }
   },
   "outputs": [],
   "source": [
    "df = pd.read_csv('data.csv',encoding = 'utf-8')"
   ]
  },
  {
   "cell_type": "code",
   "execution_count": 28,
   "metadata": {
    "ExecuteTime": {
     "end_time": "2020-05-17T08:35:41.378786Z",
     "start_time": "2020-05-17T08:35:41.368021Z"
    }
   },
   "outputs": [
    {
     "data": {
      "text/plain": [
       "Index(['obs', 'channel', 'card_nbr', 'cust_id_nbr', 'cust_name', 'zip_code1',\n",
       "       'zip_code2', 'city_town', 'order_obs', 'txn_date', 'product',\n",
       "       'city_town_channel', 'city_town_product', 'amount', 'amount_uni',\n",
       "       'order_amt', 'travel_area', 'go_date', 'back_date', 'customer_id',\n",
       "       'card'],\n",
       "      dtype='object')"
      ]
     },
     "execution_count": 28,
     "metadata": {},
     "output_type": "execute_result"
    }
   ],
   "source": [
    "df.columns"
   ]
  },
  {
   "cell_type": "code",
   "execution_count": 29,
   "metadata": {
    "ExecuteTime": {
     "end_time": "2020-05-17T08:35:42.932462Z",
     "start_time": "2020-05-17T08:35:42.927565Z"
    }
   },
   "outputs": [],
   "source": [
    "col = ['obs','zip_code1','zip_code2','city_town','order_obs', 'txn_date', 'product',\n",
    "       'city_town_channel', 'city_town_product', 'amount', 'amount_uni',\n",
    "       'order_amt', 'travel_area', 'go_date', 'back_date']"
   ]
  },
  {
   "cell_type": "code",
   "execution_count": 30,
   "metadata": {
    "ExecuteTime": {
     "end_time": "2020-05-17T08:35:50.627550Z",
     "start_time": "2020-05-17T08:35:50.567874Z"
    }
   },
   "outputs": [],
   "source": [
    "online = df[col]"
   ]
  },
  {
   "cell_type": "code",
   "execution_count": 31,
   "metadata": {
    "ExecuteTime": {
     "end_time": "2020-05-17T08:35:50.779798Z",
     "start_time": "2020-05-17T08:35:50.750125Z"
    }
   },
   "outputs": [
    {
     "data": {
      "text/html": [
       "<div>\n",
       "<style scoped>\n",
       "    .dataframe tbody tr th:only-of-type {\n",
       "        vertical-align: middle;\n",
       "    }\n",
       "\n",
       "    .dataframe tbody tr th {\n",
       "        vertical-align: top;\n",
       "    }\n",
       "\n",
       "    .dataframe thead th {\n",
       "        text-align: right;\n",
       "    }\n",
       "</style>\n",
       "<table border=\"1\" class=\"dataframe\">\n",
       "  <thead>\n",
       "    <tr style=\"text-align: right;\">\n",
       "      <th></th>\n",
       "      <th>obs</th>\n",
       "      <th>zip_code1</th>\n",
       "      <th>zip_code2</th>\n",
       "      <th>city_town</th>\n",
       "      <th>order_obs</th>\n",
       "      <th>txn_date</th>\n",
       "      <th>product</th>\n",
       "      <th>city_town_channel</th>\n",
       "      <th>city_town_product</th>\n",
       "      <th>amount</th>\n",
       "      <th>amount_uni</th>\n",
       "      <th>order_amt</th>\n",
       "      <th>travel_area</th>\n",
       "      <th>go_date</th>\n",
       "      <th>back_date</th>\n",
       "    </tr>\n",
       "  </thead>\n",
       "  <tbody>\n",
       "    <tr>\n",
       "      <th>0</th>\n",
       "      <td>17229146</td>\n",
       "      <td>台北市</td>\n",
       "      <td>大同區</td>\n",
       "      <td>台北市&amp;大同區</td>\n",
       "      <td>NaN</td>\n",
       "      <td>2019/4/19 0:00</td>\n",
       "      <td>機票</td>\n",
       "      <td>台北市&amp;大同區&amp;機台刷卡</td>\n",
       "      <td>台北市&amp;大同區&amp;機票</td>\n",
       "      <td>4 張</td>\n",
       "      <td>4.0</td>\n",
       "      <td>113944</td>\n",
       "      <td>其他</td>\n",
       "      <td>2019/6/19</td>\n",
       "      <td>2019/7/3</td>\n",
       "    </tr>\n",
       "    <tr>\n",
       "      <th>1</th>\n",
       "      <td>18086581</td>\n",
       "      <td>新北市</td>\n",
       "      <td>土城區</td>\n",
       "      <td>新北市&amp;土城區</td>\n",
       "      <td>NaN</td>\n",
       "      <td>2019/4/18 0:00</td>\n",
       "      <td>機票</td>\n",
       "      <td>新北市&amp;土城區&amp;機台刷卡</td>\n",
       "      <td>新北市&amp;土城區&amp;機票</td>\n",
       "      <td>1 張</td>\n",
       "      <td>1.0</td>\n",
       "      <td>2970</td>\n",
       "      <td>上海</td>\n",
       "      <td>2019/2/26</td>\n",
       "      <td>2019/2/26</td>\n",
       "    </tr>\n",
       "    <tr>\n",
       "      <th>2</th>\n",
       "      <td>18176501</td>\n",
       "      <td>台中市</td>\n",
       "      <td>西區</td>\n",
       "      <td>台中市&amp;西區</td>\n",
       "      <td>NaN</td>\n",
       "      <td>2019/4/18 0:00</td>\n",
       "      <td>機票</td>\n",
       "      <td>台中市&amp;西區&amp;機台刷卡</td>\n",
       "      <td>台中市&amp;西區&amp;機票</td>\n",
       "      <td>1 張</td>\n",
       "      <td>1.0</td>\n",
       "      <td>8000</td>\n",
       "      <td>香港</td>\n",
       "      <td>2019/4/2</td>\n",
       "      <td>2019/4/2</td>\n",
       "    </tr>\n",
       "    <tr>\n",
       "      <th>3</th>\n",
       "      <td>18176808</td>\n",
       "      <td>新北市</td>\n",
       "      <td>土城區</td>\n",
       "      <td>新北市&amp;土城區</td>\n",
       "      <td>NaN</td>\n",
       "      <td>2019/4/18 0:00</td>\n",
       "      <td>機票</td>\n",
       "      <td>新北市&amp;土城區&amp;機台刷卡</td>\n",
       "      <td>新北市&amp;土城區&amp;機票</td>\n",
       "      <td>2 張</td>\n",
       "      <td>2.0</td>\n",
       "      <td>12450</td>\n",
       "      <td>香港</td>\n",
       "      <td>2019/3/20</td>\n",
       "      <td>2019/3/24</td>\n",
       "    </tr>\n",
       "    <tr>\n",
       "      <th>4</th>\n",
       "      <td>18106182</td>\n",
       "      <td>新竹縣</td>\n",
       "      <td>《鄉鎮別》</td>\n",
       "      <td>新竹縣&amp;《鄉鎮別》</td>\n",
       "      <td>NaN</td>\n",
       "      <td>2019/4/16 0:00</td>\n",
       "      <td>國內自由行</td>\n",
       "      <td>新竹縣&amp;《鄉鎮別》&amp;機台刷卡</td>\n",
       "      <td>新竹縣&amp;《鄉鎮別》&amp;國內自由行</td>\n",
       "      <td>8 人</td>\n",
       "      <td>8.0</td>\n",
       "      <td>30597</td>\n",
       "      <td>NaN</td>\n",
       "      <td>2019/6/8</td>\n",
       "      <td>NaN</td>\n",
       "    </tr>\n",
       "  </tbody>\n",
       "</table>\n",
       "</div>"
      ],
      "text/plain": [
       "        obs zip_code1 zip_code2  city_town  order_obs        txn_date product  \\\n",
       "0  17229146       台北市       大同區    台北市&大同區        NaN  2019/4/19 0:00      機票   \n",
       "1  18086581       新北市       土城區    新北市&土城區        NaN  2019/4/18 0:00      機票   \n",
       "2  18176501       台中市        西區     台中市&西區        NaN  2019/4/18 0:00      機票   \n",
       "3  18176808       新北市       土城區    新北市&土城區        NaN  2019/4/18 0:00      機票   \n",
       "4  18106182       新竹縣     《鄉鎮別》  新竹縣&《鄉鎮別》        NaN  2019/4/16 0:00   國內自由行   \n",
       "\n",
       "  city_town_channel city_town_product amount  amount_uni  order_amt  \\\n",
       "0      台北市&大同區&機台刷卡        台北市&大同區&機票    4 張         4.0     113944   \n",
       "1      新北市&土城區&機台刷卡        新北市&土城區&機票    1 張         1.0       2970   \n",
       "2       台中市&西區&機台刷卡         台中市&西區&機票    1 張         1.0       8000   \n",
       "3      新北市&土城區&機台刷卡        新北市&土城區&機票    2 張         2.0      12450   \n",
       "4    新竹縣&《鄉鎮別》&機台刷卡   新竹縣&《鄉鎮別》&國內自由行    8 人         8.0      30597   \n",
       "\n",
       "  travel_area    go_date  back_date  \n",
       "0          其他  2019/6/19   2019/7/3  \n",
       "1          上海  2019/2/26  2019/2/26  \n",
       "2          香港   2019/4/2   2019/4/2  \n",
       "3          香港  2019/3/20  2019/3/24  \n",
       "4         NaN   2019/6/8        NaN  "
      ]
     },
     "execution_count": 31,
     "metadata": {},
     "output_type": "execute_result"
    }
   ],
   "source": [
    "online.head()"
   ]
  },
  {
   "cell_type": "markdown",
   "metadata": {},
   "source": [
    "## Cohort Analysis"
   ]
  },
  {
   "cell_type": "code",
   "execution_count": 35,
   "metadata": {
    "ExecuteTime": {
     "end_time": "2020-05-17T08:36:25.959836Z",
     "start_time": "2020-05-17T08:36:25.926040Z"
    }
   },
   "outputs": [
    {
     "data": {
      "text/plain": [
       "obs                  30167\n",
       "zip_code1            25576\n",
       "zip_code2            25575\n",
       "city_town            30167\n",
       "order_obs            15757\n",
       "txn_date             30167\n",
       "product              30167\n",
       "city_town_channel    30167\n",
       "city_town_product    30167\n",
       "amount               30097\n",
       "amount_uni           30097\n",
       "order_amt            30167\n",
       "travel_area          27615\n",
       "go_date              30167\n",
       "back_date            27040\n",
       "dtype: int64"
      ]
     },
     "execution_count": 35,
     "metadata": {},
     "output_type": "execute_result"
    }
   ],
   "source": [
    "lenonline.count()"
   ]
  },
  {
   "cell_type": "code",
   "execution_count": 33,
   "metadata": {
    "ExecuteTime": {
     "end_time": "2020-05-17T08:36:08.645772Z",
     "start_time": "2020-05-17T08:36:08.579543Z"
    }
   },
   "outputs": [
    {
     "name": "stdout",
     "output_type": "stream",
     "text": [
      "<class 'pandas.core.frame.DataFrame'>\n",
      "RangeIndex: 30167 entries, 0 to 30166\n",
      "Data columns (total 15 columns):\n",
      "obs                  30167 non-null int64\n",
      "zip_code1            25576 non-null object\n",
      "zip_code2            25575 non-null object\n",
      "city_town            30167 non-null object\n",
      "order_obs            15757 non-null float64\n",
      "txn_date             30167 non-null object\n",
      "product              30167 non-null object\n",
      "city_town_channel    30167 non-null object\n",
      "city_town_product    30167 non-null object\n",
      "amount               30097 non-null object\n",
      "amount_uni           30097 non-null float64\n",
      "order_amt            30167 non-null int64\n",
      "travel_area          27615 non-null object\n",
      "go_date              30167 non-null object\n",
      "back_date            27040 non-null object\n",
      "dtypes: float64(2), int64(2), object(11)\n",
      "memory usage: 3.5+ MB\n"
     ]
    }
   ],
   "source": [
    "online.info()"
   ]
  },
  {
   "cell_type": "code",
   "execution_count": 6,
   "metadata": {
    "ExecuteTime": {
     "end_time": "2020-05-17T07:54:20.465892Z",
     "start_time": "2020-05-17T07:54:20.451897Z"
    }
   },
   "outputs": [],
   "source": [
    "# Define a function that will parse the date\n",
    "def get_day(x): return dt.datetime(x.year, x.month, x.day) "
   ]
  },
  {
   "cell_type": "code",
   "execution_count": null,
   "metadata": {},
   "outputs": [],
   "source": [
    "# Create InvoiceDay column\n",
    "online['InvoiceDay'] = online['InvoiceDate'].apply(get_day) "
   ]
  },
  {
   "cell_type": "code",
   "execution_count": null,
   "metadata": {},
   "outputs": [],
   "source": [
    "# Group by CustomerID and select the InvoiceDay value\n",
    "grouping = online.groupby('CustomerID')['InvoiceDay'] \n",
    "# Assign a minimum InvoiceDay value to the dataset\n",
    "online['CohortDay'] = grouping.transform(min)\n",
    "# View the top 5 rows\n",
    "print(online.head())"
   ]
  }
 ],
 "metadata": {
  "kernelspec": {
   "display_name": "Python 3",
   "language": "python",
   "name": "python3"
  },
  "language_info": {
   "codemirror_mode": {
    "name": "ipython",
    "version": 3
   },
   "file_extension": ".py",
   "mimetype": "text/x-python",
   "name": "python",
   "nbconvert_exporter": "python",
   "pygments_lexer": "ipython3",
   "version": "3.7.7"
  },
  "toc": {
   "base_numbering": 1,
   "nav_menu": {},
   "number_sections": true,
   "sideBar": true,
   "skip_h1_title": false,
   "title_cell": "Table of Contents",
   "title_sidebar": "Contents",
   "toc_cell": false,
   "toc_position": {},
   "toc_section_display": true,
   "toc_window_display": true
  }
 },
 "nbformat": 4,
 "nbformat_minor": 2
}
